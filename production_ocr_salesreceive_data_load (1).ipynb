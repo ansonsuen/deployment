{
 "cells": [
  {
   "cell_type": "code",
   "execution_count": 42,
   "metadata": {},
   "outputs": [],
   "source": [
    "\n",
    "class common_function:\n",
    "    def generate_require_field_list(self, df_required_data):\n",
    "        dic = {}\n",
    "        for i in range(len(df_required_data)):\n",
    "            dic[df_required_data[\"Field Name / Label\"].iloc[i]] = df_required_data[\"data_type\"].iloc[i]\n",
    "        return dic\n",
    "    def removepunc(self, st):\n",
    "        punctuation= '''!()[]{};'\"\\,<>./?@#$%^&*_~'''\n",
    "        newString=\"\"\n",
    "        for x in st:\n",
    "            if x not in punctuation or x == \" \":\n",
    "                newString=newString+x\n",
    "        return newString\n",
    "    def generate_mysql_insertstatement(self, df, dic, db, table_name, path):\n",
    "        import re\n",
    "        import pandas as pd\n",
    "\n",
    "        alist = []\n",
    "        blist=[]\n",
    "        txt_file = open(path,\"w+\", encoding=\"utf-8\")\n",
    "        string = \"\"\n",
    "\n",
    "        \n",
    "        for i in range(len(df)):\n",
    "            string = \"INSERT INTO {db}.{name} (\".format(db = db, name = table_name)\n",
    "            for c in df.columns:\n",
    "                if c != df.columns[-1]:\n",
    "                    string = string + c + \", \"\n",
    "                else:\n",
    "                    string = string + c \n",
    "            string = string + \") \"\n",
    "            string = string + \"VALUES \"\n",
    "            string = string + \"(\"\n",
    "            for c in df.columns:\n",
    "\n",
    "                blist.append(df[c].iloc[i]) \n",
    "                    # print(df[c].iloc[i])\n",
    "                    # print(\"************\")\n",
    "                    # print(dic.get(c))\n",
    "                    # print(c)\n",
    "                if c != list(df.columns)[-1]:\n",
    "                    # print(df[c].iloc[i])\n",
    "                    # print(type(df[c].iloc[i]))\n",
    "                    # print(pd.isna(df[c].iloc[i]))\n",
    "\n",
    "                    if str(df[c].iloc[i])==\"<NA>\" or pd.isna(df[c].iloc[i]) == True:\n",
    "                        string = string + 'NULL'  + \", \"\n",
    "                    elif re.search(\"NUM\", dic.get(c)) is not None :\n",
    "                        string = string + str(float(df[c].iloc[i])) + \", \"\n",
    "                    elif re.search(\"float\", dic.get(c)) is not None :\n",
    "                        string = string + str(float(df[c].iloc[i])) + \", \"\n",
    "                    else:\n",
    "                        try:\n",
    "                            df[c].iloc[i] = common.removepunc(df[c].iloc[i])\n",
    "                        except:\n",
    "                            pass\n",
    "                        string = string + \"'\" + str(df[c].iloc[i]).replace(\"'\",\"\\\\'\") + \"'\" + \", \"\n",
    "                else:\n",
    "                    if  str(df[c].iloc[i])==\"<NA>\" or pd.isna(df[c].iloc[i]) == True:\n",
    "                        string = string + 'NULL'  \n",
    "                    elif re.search(\"NUM\", dic.get(c)) is not None :\n",
    "                        string = string + str(float(df[c].iloc[i]))\n",
    "                    elif re.search(\"float\", dic.get(c)) is not None :\n",
    "                        string = string + str(float(df[c].iloc[i])) + \", \"\n",
    "                    else:\n",
    "                        try:\n",
    "                            df[c].iloc[i] = common.removepunc(df[c].iloc[i])\n",
    "                        except:\n",
    "                            pass\n",
    "                        string = string + \"'\" + str(df[c].iloc[i]).replace(\"'\",\"\\\\'\") + \"'\" \n",
    "                        string = string.replace(\"'nan'\", \"NULL\")\n",
    "                \n",
    "            string = string + \") \"\n",
    "            string = string.replace(\"'nan'\", \"NULL\")\n",
    "            string = string.replace(\"nan\", \"NULL\")\n",
    "            string = string + \";\"\n",
    "            txt_file.write(string+\"\\n\")\n",
    "\n",
    "        return string\n",
    "        \n",
    "        "
   ]
  },
  {
   "cell_type": "code",
   "execution_count": 43,
   "metadata": {},
   "outputs": [
    {
     "name": "stdout",
     "output_type": "stream",
     "text": [
      "#################   start read the schema excel    ###########################################\n"
     ]
    }
   ],
   "source": [
    "import pandas as pd\n",
    "import datetime\n",
    "import numpy as np\n",
    "\n",
    "import re\n",
    "path = r\"C:\\Users\\Marcus\\Downloads\\production_2022-02-10_data\\K11_CRM_OCR_RAW.csv\"\n",
    "print(\"#################   start read the schema excel    ###########################################\")\n",
    "df_required_data = pd.read_csv(path)\n",
    "common = common_function()\n",
    "dic = common.generate_require_field_list(df_required_data)\n",
    "\n",
    "txn_name = r\"C:\\Users\\Marcus\\Downloads\\production_2022-02-10_data\\production_ocr.csv\"\n",
    "df = pd.read_csv(txn_name, sep=',' , dtype= \"string\",engine='python')"
   ]
  },
  {
   "cell_type": "code",
   "execution_count": 44,
   "metadata": {},
   "outputs": [
    {
     "name": "stdout",
     "output_type": "stream",
     "text": [
      "BATCHRECORDID\n",
      "LINENO\n",
      "VIPACCOUNTNO\n",
      "MALLID\n",
      "STORECODE\n",
      "STORENAME\n",
      "STOREADDR\n",
      "MEMONO\n",
      "MEMODATE\n",
      "MEMOTIME\n",
      "CURRENCYCODE\n",
      "TENDER\n",
      "AMT\n",
      "KDOLLAR\n",
      "SALESMEMOPHOTO\n",
      "BANKCARDTRADEMEMONO\n",
      "BANKCARDTRADETERMINALID\n",
      "BANKCARDTRADEDATE\n",
      "BANKCARDTRADETIME\n",
      "BANKCARDTRADEADDR\n",
      "BANKCARDTRADEAMOUNT\n",
      "BANKCARDTRADEPHOTO\n",
      "USETYPE\n",
      "SOURCE\n",
      "EARNBONUS\n",
      "PROCESS_METHOD\n",
      "OCR_RULE_NO\n",
      "ISEXCHANGEGIFTONSAMEDAY\n",
      "ISFILLEXTRACTPOINTS\n",
      "CHECKBATCHNO\n",
      "STATUS\n",
      "REMARKS\n",
      "CREATEUSER\n",
      "CREATEDATE\n",
      "LASTMODIFYUSER\n",
      "LASTMODIFYDATE\n",
      "ISSPECIAL_ATTENTION\n",
      "SPECIAL_ATTENTIONRULEID\n",
      "OCR_RECEIPTS_IPADDRESS\n",
      "RECORD_ID\n",
      "EXTRACTMARK\n",
      "ORC_UPGRADE_AMOUNT\n",
      "GRADE\n",
      "FEEDBACKINFO\n",
      "VIPCODE\n",
      "XF_BCM\n",
      "XF_SCM\n",
      "VIPNAME\n",
      "ISUPGRADET2\n",
      "TOTALAMT\n"
     ]
    }
   ],
   "source": [
    "for c in df.columns:\n",
    "    print(c)"
   ]
  },
  {
   "cell_type": "code",
   "execution_count": 45,
   "metadata": {},
   "outputs": [],
   "source": [
    "required_col = df_required_data[\"Field Name / Label\"].to_list()\n"
   ]
  },
  {
   "cell_type": "code",
   "execution_count": 46,
   "metadata": {},
   "outputs": [
    {
     "name": "stdout",
     "output_type": "stream",
     "text": [
      "MEMODATE\n",
      "BANKCARDTRADEDATE\n",
      "COMPLETED_DATE\n"
     ]
    }
   ],
   "source": [
    "\n",
    "\n",
    "for key, value in dic.items():\n",
    "    if re.search(\"DATETIME\", value.upper()) is not None or re.search(\"DATE\", value.upper()) is not None:\n",
    "        print(key)"
   ]
  },
  {
   "cell_type": "code",
   "execution_count": 47,
   "metadata": {},
   "outputs": [
    {
     "data": {
      "text/plain": [
       "['TRANSACTION_ID',\n",
       " 'XF_BONUS',\n",
       " 'MEMONO',\n",
       " 'AMT',\n",
       " 'BATCHRECORDID',\n",
       " 'LINENO',\n",
       " 'VIPACCOUNTNO',\n",
       " 'MALLID',\n",
       " 'STORECODE',\n",
       " 'STORENAME',\n",
       " 'MEMODATE',\n",
       " 'MEMOTIME',\n",
       " 'CURRENCYCODE',\n",
       " 'TENDER',\n",
       " 'KDOLLAR',\n",
       " 'SALESMEMOPHOTO',\n",
       " 'BANKCARDTRADEMEMONO',\n",
       " 'BANKCARDTRADEDATE',\n",
       " 'BANKCARDTRADETIME',\n",
       " 'BANKCARDTRADEAMOUNT',\n",
       " 'BANKCARDTRADEPHOTO',\n",
       " 'USETYPE',\n",
       " 'SOURCE',\n",
       " 'PARKING_IND',\n",
       " 'PROCESS_METHOD',\n",
       " 'OCR_RULE_NO',\n",
       " 'RANDOM_CHECK_IND',\n",
       " 'DUPLICATE_IND',\n",
       " 'DUPLICATE_RULE_ID',\n",
       " 'STATUS',\n",
       " 'REJECT_CODE',\n",
       " 'REMARKS',\n",
       " 'ISSPECIAL_ATTENTION',\n",
       " 'SPECIAL_ATTENTIONRULEID',\n",
       " 'OCR_RECEIPTS_IPADDRESS',\n",
       " 'XF_GRADE',\n",
       " 'VIPCODE',\n",
       " 'XF_CONFIRMBY',\n",
       " 'XF_CONFIRMDATE',\n",
       " 'XF_STORENAME',\n",
       " 'XF_STORENAME_SC',\n",
       " 'XF_STORENAME_TC',\n",
       " 'XF_DESCRIPTION_SC',\n",
       " 'XF_DESCRIPTION_TC',\n",
       " 'XF_DESCRIPTION_ENG',\n",
       " 'COMPLETED_DATE']"
      ]
     },
     "execution_count": 47,
     "metadata": {},
     "output_type": "execute_result"
    }
   ],
   "source": [
    "required_col"
   ]
  },
  {
   "cell_type": "code",
   "execution_count": 48,
   "metadata": {},
   "outputs": [
    {
     "name": "stdout",
     "output_type": "stream",
     "text": [
      "['TRANSACTION_ID', 'XF_BONUS', 'PARKING_IND', 'RANDOM_CHECK_IND', 'DUPLICATE_IND', 'DUPLICATE_RULE_ID', 'REJECT_CODE', 'XF_GRADE', 'XF_CONFIRMBY', 'XF_CONFIRMDATE', 'XF_STORENAME', 'XF_STORENAME_SC', 'XF_STORENAME_TC', 'XF_DESCRIPTION_SC', 'XF_DESCRIPTION_TC', 'XF_DESCRIPTION_ENG', 'COMPLETED_DATE']\n"
     ]
    }
   ],
   "source": [
    "\n",
    "dic_schema = {}\n",
    "for key, value in dic.items():\n",
    "    if re.search(\"NUM\", value.upper()) is not None:\n",
    "        dic_schema[key] = \"float64\"\n",
    "    else:\n",
    "        dic_schema[key] = \"string\"\n",
    "\n",
    "additional_col = [x for x in required_col if x not in df.columns]\n",
    "print(additional_col)"
   ]
  },
  {
   "cell_type": "code",
   "execution_count": 49,
   "metadata": {},
   "outputs": [
    {
     "data": {
      "text/plain": [
       "Index(['BATCHRECORDID', 'LINENO', 'VIPACCOUNTNO', 'MALLID', 'STORECODE',\n",
       "       'STORENAME', 'STOREADDR', 'MEMONO', 'MEMODATE', 'MEMOTIME',\n",
       "       'CURRENCYCODE', 'TENDER', 'AMT', 'KDOLLAR', 'SALESMEMOPHOTO',\n",
       "       'BANKCARDTRADEMEMONO', 'BANKCARDTRADETERMINALID', 'BANKCARDTRADEDATE',\n",
       "       'BANKCARDTRADETIME', 'BANKCARDTRADEADDR', 'BANKCARDTRADEAMOUNT',\n",
       "       'BANKCARDTRADEPHOTO', 'USETYPE', 'SOURCE', 'EARNBONUS',\n",
       "       'PROCESS_METHOD', 'OCR_RULE_NO', 'ISEXCHANGEGIFTONSAMEDAY',\n",
       "       'ISFILLEXTRACTPOINTS', 'CHECKBATCHNO', 'STATUS', 'REMARKS',\n",
       "       'CREATEUSER', 'CREATEDATE', 'LASTMODIFYUSER', 'LASTMODIFYDATE',\n",
       "       'ISSPECIAL_ATTENTION', 'SPECIAL_ATTENTIONRULEID',\n",
       "       'OCR_RECEIPTS_IPADDRESS', 'RECORD_ID', 'EXTRACTMARK',\n",
       "       'ORC_UPGRADE_AMOUNT', 'GRADE', 'FEEDBACKINFO', 'VIPCODE', 'XF_BCM',\n",
       "       'XF_SCM', 'VIPNAME', 'ISUPGRADET2', 'TOTALAMT'],\n",
       "      dtype='object')"
      ]
     },
     "execution_count": 49,
     "metadata": {},
     "output_type": "execute_result"
    }
   ],
   "source": [
    "df.columns"
   ]
  },
  {
   "cell_type": "code",
   "execution_count": null,
   "metadata": {},
   "outputs": [],
   "source": []
  },
  {
   "cell_type": "code",
   "execution_count": 54,
   "metadata": {},
   "outputs": [],
   "source": [
    "df[\"TRANSACTION_ID\"] = np.nan\n",
    "df[\"XF_BONUS\"] = np.nan\n",
    "df[\"PARKING_IND\"] = np.nan\n",
    "df[\"RANDOM_CHECK_IND\"] = np.nan\n",
    "df[\"DUPLICATE_IND\"] = np.nan\n",
    "df[\"DUPLICATE_RULE_ID\"] = np.nan\n",
    "df[\"REJECT_CODE\"] = np.nan\n",
    "df[\"XF_GRADE\"] = np.nan\n",
    "df[\"XF_CONFIRMBY\"] =  np.nan\n",
    "df[\"XF_CONFIRMDATE\"] =  np.nan\n",
    "df[\"COMPLETED_DATE\"] =  np.nan\n",
    "df[\"NEW_DATA_IND\"] = \"0\"\n",
    "df[\"XF_VOIDSTATUS\"] = \"0\"\n",
    "df[\"XF_VOIDREASON\"] = np.nan\n"
   ]
  },
  {
   "cell_type": "code",
   "execution_count": 55,
   "metadata": {},
   "outputs": [],
   "source": [
    "df = df.reset_index()"
   ]
  },
  {
   "cell_type": "code",
   "execution_count": 56,
   "metadata": {},
   "outputs": [],
   "source": [
    "today = datetime.datetime.now()\n",
    "date_str = today.strftime(\"%Y%m%d%H%M%S%f\")\n",
    "df[\"index\"] = df[\"index\"].astype(\"str\")\n",
    "df[\"TRANSACTION_ID\"] = df.apply(lambda x: date_str + x[\"index\"] if pd.isna(x[\"RECORD_ID\"]) == True else x[\"RECORD_ID\"], axis=1)\n",
    "\n"
   ]
  },
  {
   "cell_type": "code",
   "execution_count": 57,
   "metadata": {},
   "outputs": [
    {
     "name": "stdout",
     "output_type": "stream",
     "text": [
      "level_0\n",
      "index\n",
      "BATCHRECORDID\n",
      "LINENO\n",
      "VIPACCOUNTNO\n",
      "MALLID\n",
      "STORECODE\n",
      "STORENAME\n",
      "STOREADDR\n",
      "MEMONO\n",
      "MEMODATE\n",
      "MEMOTIME\n",
      "CURRENCYCODE\n",
      "TENDER\n",
      "AMT\n",
      "KDOLLAR\n",
      "SALESMEMOPHOTO\n",
      "BANKCARDTRADEMEMONO\n",
      "BANKCARDTRADETERMINALID\n",
      "BANKCARDTRADEDATE\n",
      "BANKCARDTRADETIME\n",
      "BANKCARDTRADEADDR\n",
      "BANKCARDTRADEAMOUNT\n",
      "BANKCARDTRADEPHOTO\n",
      "USETYPE\n",
      "SOURCE\n",
      "EARNBONUS\n",
      "PROCESS_METHOD\n",
      "OCR_RULE_NO\n",
      "ISEXCHANGEGIFTONSAMEDAY\n",
      "ISFILLEXTRACTPOINTS\n",
      "CHECKBATCHNO\n",
      "STATUS\n",
      "REMARKS\n",
      "CREATEUSER\n",
      "CREATEDATE\n",
      "LASTMODIFYUSER\n",
      "LASTMODIFYDATE\n",
      "ISSPECIAL_ATTENTION\n",
      "SPECIAL_ATTENTIONRULEID\n",
      "OCR_RECEIPTS_IPADDRESS\n",
      "RECORD_ID\n",
      "EXTRACTMARK\n",
      "ORC_UPGRADE_AMOUNT\n",
      "GRADE\n",
      "FEEDBACKINFO\n",
      "VIPCODE\n",
      "XF_BCM\n",
      "XF_SCM\n",
      "VIPNAME\n",
      "ISUPGRADET2\n",
      "TOTALAMT\n",
      "TRANSACTION_ID\n",
      "XF_BONUS\n",
      "PARKING_IND\n",
      "RANDOM_CHECK_IND\n",
      "DUPLICATE_IND\n",
      "DUPLICATE_RULE_ID\n",
      "REJECT_CODE\n",
      "XF_GRADE\n",
      "XF_CONFIRMBY\n",
      "XF_CONFIRMDATE\n",
      "COMPLETED_DATE\n",
      "NEW_DATA_IND\n",
      "XF_VOIDSTATUS\n",
      "XF_VOIDREASON\n"
     ]
    }
   ],
   "source": [
    "for c in df.columns:\n",
    "    print(c)"
   ]
  },
  {
   "cell_type": "code",
   "execution_count": 60,
   "metadata": {},
   "outputs": [],
   "source": [
    "# for k, v in dic_schema.items():\n",
    "#     df[k] = df[k].astype(v)\n",
    "# for col in df_store.columns:\n",
    "#     print(col)\n",
    "#     df_store[col] = df_store[col].astype(dic_schema.get(col))\n",
    "df_tmp = df.copy()\n",
    "for c in df_tmp.columns:\n",
    "    if c not in required_col:\n",
    "        df_tmp.drop(columns= c, axis=1, inplace=True)\n",
    "\n",
    "df_tmp.fillna(np.nan, inplace=True)"
   ]
  },
  {
   "cell_type": "code",
   "execution_count": 63,
   "metadata": {},
   "outputs": [
    {
     "data": {
      "text/plain": [
       "{'TRANSACTION_ID': 'string',\n",
       " 'XF_BONUS': 'float64',\n",
       " 'MEMONO': 'string',\n",
       " 'AMT': 'float64',\n",
       " 'BATCHRECORDID': 'string',\n",
       " 'LINENO': 'string',\n",
       " 'VIPACCOUNTNO': 'string',\n",
       " 'MALLID': 'string',\n",
       " 'STORECODE': 'string',\n",
       " 'STORENAME': 'string',\n",
       " 'MEMODATE': 'string',\n",
       " 'MEMOTIME': 'string',\n",
       " 'CURRENCYCODE': 'string',\n",
       " 'TENDER': 'string',\n",
       " 'KDOLLAR': 'float64',\n",
       " 'SALESMEMOPHOTO': 'string',\n",
       " 'BANKCARDTRADEMEMONO': 'string',\n",
       " 'BANKCARDTRADEDATE': 'string',\n",
       " 'BANKCARDTRADETIME': 'string',\n",
       " 'BANKCARDTRADEAMOUNT': 'string',\n",
       " 'BANKCARDTRADEPHOTO': 'string',\n",
       " 'USETYPE': 'string',\n",
       " 'SOURCE': 'string',\n",
       " 'PARKING_IND': 'string',\n",
       " 'PROCESS_METHOD': 'string',\n",
       " 'OCR_RULE_NO': 'string',\n",
       " 'RANDOM_CHECK_IND': 'string',\n",
       " 'DUPLICATE_IND': 'string',\n",
       " 'DUPLICATE_RULE_ID': 'string',\n",
       " 'STATUS': 'string',\n",
       " 'REJECT_CODE': 'string',\n",
       " 'REMARKS': 'string',\n",
       " 'ISSPECIAL_ATTENTION': 'string',\n",
       " 'SPECIAL_ATTENTIONRULEID': 'string',\n",
       " 'OCR_RECEIPTS_IPADDRESS': 'string',\n",
       " 'XF_GRADE': 'string',\n",
       " 'VIPCODE': 'string',\n",
       " 'XF_CONFIRMBY': 'string',\n",
       " 'XF_CONFIRMDATE': 'string',\n",
       " 'XF_STORENAME': 'string',\n",
       " 'XF_STORENAME_SC': 'string',\n",
       " 'XF_STORENAME_TC': 'string',\n",
       " 'XF_DESCRIPTION_SC': 'string',\n",
       " 'XF_DESCRIPTION_TC': 'string',\n",
       " 'XF_DESCRIPTION_ENG': 'string',\n",
       " 'COMPLETED_DATE': 'string'}"
      ]
     },
     "execution_count": 63,
     "metadata": {},
     "output_type": "execute_result"
    }
   ],
   "source": [
    "dic_schema"
   ]
  },
  {
   "cell_type": "code",
   "execution_count": 64,
   "metadata": {},
   "outputs": [
    {
     "name": "stdout",
     "output_type": "stream",
     "text": [
      "Current date\n"
     ]
    }
   ],
   "source": [
    "import datetime\n",
    "now = datetime.datetime.now()\n",
    "print(\"Current date\")\n",
    "pd.set_option('precision', 0)\n",
    "\n",
    "\n",
    "df_tmp = df_tmp.replace(\"<NA>\",np.nan) \n",
    "table_name = \"K11_CRM_OCR_RAW_OLDDATA\"\n",
    "path = r\"C:\\Users\\Marcus\\Downloads\\production_2022-02-10_data\\K11_CRM_OCR_RAW_PENDING.sql\"\n",
    "common = common_function()\n",
    "string = common.generate_mysql_insertstatement(df_tmp, dic_schema, \"uat\", table_name, path)\n"
   ]
  },
  {
   "cell_type": "code",
   "execution_count": null,
   "metadata": {},
   "outputs": [],
   "source": []
  },
  {
   "cell_type": "code",
   "execution_count": null,
   "metadata": {},
   "outputs": [],
   "source": []
  }
 ],
 "metadata": {
  "kernelspec": {
   "display_name": "Python 3",
   "language": "python",
   "name": "python3"
  },
  "language_info": {
   "codemirror_mode": {
    "name": "ipython",
    "version": 3
   },
   "file_extension": ".py",
   "mimetype": "text/x-python",
   "name": "python",
   "nbconvert_exporter": "python",
   "pygments_lexer": "ipython3",
   "version": "3.7.6"
  }
 },
 "nbformat": 4,
 "nbformat_minor": 5
}
